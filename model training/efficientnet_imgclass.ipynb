{
 "cells": [
  {
   "cell_type": "code",
   "execution_count": 3,
   "metadata": {},
   "outputs": [
    {
     "name": "stdout",
     "output_type": "stream",
     "text": [
      "Collecting seaborn\n",
      "  Downloading seaborn-0.12.1-py3-none-any.whl (288 kB)\n",
      "     -------------------------------------- 288.2/288.2 kB 3.0 MB/s eta 0:00:00\n",
      "Collecting pandas>=0.25\n",
      "  Downloading pandas-1.5.2-cp310-cp310-win_amd64.whl (10.4 MB)\n",
      "     ---------------------------------------- 10.4/10.4 MB 5.5 MB/s eta 0:00:00\n",
      "Collecting matplotlib!=3.6.1,>=3.1\n",
      "  Downloading matplotlib-3.6.2-cp310-cp310-win_amd64.whl (7.2 MB)\n",
      "     ---------------------------------------- 7.2/7.2 MB 5.2 MB/s eta 0:00:00\n",
      "Collecting numpy>=1.17\n",
      "  Downloading numpy-1.23.5-cp310-cp310-win_amd64.whl (14.6 MB)\n",
      "     ---------------------------------------- 14.6/14.6 MB 6.2 MB/s eta 0:00:00\n",
      "Collecting fonttools>=4.22.0\n",
      "  Downloading fonttools-4.38.0-py3-none-any.whl (965 kB)\n",
      "     -------------------------------------- 965.4/965.4 kB 6.1 MB/s eta 0:00:00\n",
      "Requirement already satisfied: packaging>=20.0 in c:\\users\\mvnsi\\desktop\\train\\venv\\lib\\site-packages (from matplotlib!=3.6.1,>=3.1->seaborn) (22.0)\n",
      "Collecting pillow>=6.2.0\n",
      "  Downloading Pillow-9.3.0-cp310-cp310-win_amd64.whl (2.5 MB)\n",
      "     ---------------------------------------- 2.5/2.5 MB 7.2 MB/s eta 0:00:00\n",
      "Requirement already satisfied: python-dateutil>=2.7 in c:\\users\\mvnsi\\desktop\\train\\venv\\lib\\site-packages (from matplotlib!=3.6.1,>=3.1->seaborn) (2.8.2)\n",
      "Collecting cycler>=0.10\n",
      "  Using cached cycler-0.11.0-py3-none-any.whl (6.4 kB)\n",
      "Collecting pyparsing>=2.2.1\n",
      "  Using cached pyparsing-3.0.9-py3-none-any.whl (98 kB)\n",
      "Collecting contourpy>=1.0.1\n",
      "  Downloading contourpy-1.0.6-cp310-cp310-win_amd64.whl (163 kB)\n",
      "     -------------------------------------- 163.6/163.6 kB 3.3 MB/s eta 0:00:00\n",
      "Collecting kiwisolver>=1.0.1\n",
      "  Using cached kiwisolver-1.4.4-cp310-cp310-win_amd64.whl (55 kB)\n",
      "Collecting pytz>=2020.1\n",
      "  Downloading pytz-2022.6-py2.py3-none-any.whl (498 kB)\n",
      "     ------------------------------------- 498.1/498.1 kB 10.4 MB/s eta 0:00:00\n",
      "Requirement already satisfied: six>=1.5 in c:\\users\\mvnsi\\desktop\\train\\venv\\lib\\site-packages (from python-dateutil>=2.7->matplotlib!=3.6.1,>=3.1->seaborn) (1.16.0)\n",
      "Installing collected packages: pytz, pyparsing, pillow, numpy, kiwisolver, fonttools, cycler, pandas, contourpy, matplotlib, seaborn\n",
      "Successfully installed contourpy-1.0.6 cycler-0.11.0 fonttools-4.38.0 kiwisolver-1.4.4 matplotlib-3.6.2 numpy-1.23.5 pandas-1.5.2 pillow-9.3.0 pyparsing-3.0.9 pytz-2022.6 seaborn-0.12.1\n",
      "Note: you may need to restart the kernel to use updated packages.\n"
     ]
    },
    {
     "name": "stderr",
     "output_type": "stream",
     "text": [
      "\n",
      "[notice] A new release of pip available: 22.2.2 -> 22.3.1\n",
      "[notice] To update, run: python.exe -m pip install --upgrade pip\n"
     ]
    },
    {
     "name": "stdout",
     "output_type": "stream",
     "text": [
      "Collecting torchsampler\n",
      "  Using cached torchsampler-0.1.2-py3-none-any.whl (5.6 kB)\n",
      "Collecting torchvision>=0.5\n",
      "  Downloading torchvision-0.14.0-cp310-cp310-win_amd64.whl (1.1 MB)\n",
      "     ---------------------------------------- 1.1/1.1 MB 2.3 MB/s eta 0:00:00\n",
      "Requirement already satisfied: pandas in c:\\users\\mvnsi\\desktop\\train\\venv\\lib\\site-packages (from torchsampler) (1.5.2)\n",
      "Collecting torch>=1.3\n",
      "  Downloading torch-1.13.0-cp310-cp310-win_amd64.whl (167.3 MB)\n",
      "     -------------------------------------- 167.3/167.3 MB 2.0 MB/s eta 0:00:00\n",
      "Collecting typing-extensions\n",
      "  Downloading typing_extensions-4.4.0-py3-none-any.whl (26 kB)\n",
      "Requirement already satisfied: numpy in c:\\users\\mvnsi\\desktop\\train\\venv\\lib\\site-packages (from torchvision>=0.5->torchsampler) (1.23.5)\n",
      "Collecting requests\n",
      "  Using cached requests-2.28.1-py3-none-any.whl (62 kB)\n",
      "Requirement already satisfied: pillow!=8.3.*,>=5.3.0 in c:\\users\\mvnsi\\desktop\\train\\venv\\lib\\site-packages (from torchvision>=0.5->torchsampler) (9.3.0)\n",
      "Requirement already satisfied: python-dateutil>=2.8.1 in c:\\users\\mvnsi\\desktop\\train\\venv\\lib\\site-packages (from pandas->torchsampler) (2.8.2)\n",
      "Requirement already satisfied: pytz>=2020.1 in c:\\users\\mvnsi\\desktop\\train\\venv\\lib\\site-packages (from pandas->torchsampler) (2022.6)\n",
      "Requirement already satisfied: six>=1.5 in c:\\users\\mvnsi\\desktop\\train\\venv\\lib\\site-packages (from python-dateutil>=2.8.1->pandas->torchsampler) (1.16.0)\n",
      "Collecting idna<4,>=2.5\n",
      "  Downloading idna-3.4-py3-none-any.whl (61 kB)\n",
      "     ---------------------------------------- 61.5/61.5 kB 1.7 MB/s eta 0:00:00\n",
      "Collecting urllib3<1.27,>=1.21.1\n",
      "  Downloading urllib3-1.26.13-py2.py3-none-any.whl (140 kB)\n",
      "     -------------------------------------- 140.6/140.6 kB 1.7 MB/s eta 0:00:00\n",
      "Collecting certifi>=2017.4.17\n",
      "  Downloading certifi-2022.12.7-py3-none-any.whl (155 kB)\n",
      "     -------------------------------------- 155.3/155.3 kB 4.7 MB/s eta 0:00:00\n",
      "Collecting charset-normalizer<3,>=2\n",
      "  Using cached charset_normalizer-2.1.1-py3-none-any.whl (39 kB)\n",
      "Installing collected packages: urllib3, typing-extensions, idna, charset-normalizer, certifi, torch, requests, torchvision, torchsampler\n",
      "Successfully installed certifi-2022.12.7 charset-normalizer-2.1.1 idna-3.4 requests-2.28.1 torch-1.13.0 torchsampler-0.1.2 torchvision-0.14.0 typing-extensions-4.4.0 urllib3-1.26.13\n",
      "Note: you may need to restart the kernel to use updated packages.\n"
     ]
    },
    {
     "name": "stderr",
     "output_type": "stream",
     "text": [
      "\n",
      "[notice] A new release of pip available: 22.2.2 -> 22.3.1\n",
      "[notice] To update, run: python.exe -m pip install --upgrade pip\n"
     ]
    }
   ],
   "source": [
    "%pip install seaborn\n",
    "%pip install torchsampler"
   ]
  },
  {
   "cell_type": "code",
   "execution_count": 1,
   "metadata": {
    "id": "ttGI4Qcor12I"
   },
   "outputs": [],
   "source": [
    "# all libraries used for efficientnet\n",
    "import logging\n",
    "import torch\n",
    "import torch.nn as nn\n",
    "import torch.nn.functional as F\n",
    "import torch.optim as optim\n",
    "from torch.optim import lr_scheduler\n",
    "import torch.backends.cudnn as cudnn\n",
    "import numpy as np\n",
    "import torchvision\n",
    "from torchvision import datasets, models, transforms\n",
    "import matplotlib.pyplot as plt\n",
    "import time\n",
    "from PIL import Image\n",
    "from io import BytesIO\n",
    "import os\n",
    "import copy\n",
    "import glob\n",
    "import cv2\n",
    "import seaborn as sns\n",
    "import pandas as pd\n",
    "import os\n",
    "import argparse\n",
    "import torchsampler\n",
    "import pickle\n",
    "from torch.utils.data import DataLoader, Dataset\n",
    "from PIL import Image\n",
    "from torchsampler import ImbalancedDatasetSampler\n",
    "from torchvision.models import resnet50, ResNet50_Weights\n",
    "import io\n",
    "import torch.optim as optim\n",
    "\n"
   ]
  },
  {
   "cell_type": "code",
   "execution_count": 2,
   "metadata": {
    "id": "cvWxfLmJx0KR"
   },
   "outputs": [
    {
     "name": "stdout",
     "output_type": "stream",
     "text": [
      "cpu\n"
     ]
    }
   ],
   "source": [
    "# If CUDA is not available use CPU \n",
    "device = torch.device('cuda:0' if torch.cuda.is_available() else 'cpu')\n",
    "\n",
    "\n",
    "print(device)"
   ]
  },
  {
   "cell_type": "code",
   "execution_count": 3,
   "metadata": {
    "id": "3gU3Kwk7sQkk"
   },
   "outputs": [],
   "source": [
    "# Data preprocessing\n",
    "# Transforming, normalizing, flipping, resizing and converting to Tensor\n",
    "# Mean and standard deviation for normalizing\n",
    "\n",
    "# Dataset is split into three directory: train, val and test\n",
    "data_means = [0.485, 0.456, 0.406]\n",
    "data_stds = [0.229, 0.224, 0.225]\n",
    "data_transform = {\n",
    "    'train': transforms.Compose([\n",
    "        transforms.Resize((240, 240)),\n",
    "        transforms.RandomHorizontalFlip(),\n",
    "        transforms.RandomVerticalFlip(),\n",
    "        transforms.ToTensor(),\n",
    "        transforms.Normalize(data_means, data_stds),\n",
    "\n",
    "  \n",
    "    ]),\n",
    "    'val': transforms.Compose([\n",
    "        transforms.Resize((240, 240)),\n",
    "        transforms.ToTensor(),\n",
    "        transforms.Normalize(data_means, data_stds)\n",
    "\n",
    "  \n",
    "    ]),\n",
    "    'test': transforms.Compose([\n",
    "        transforms.Resize((240, 240)),\n",
    "        transforms.ToTensor(),\n",
    "        transforms.Normalize(data_means, data_stds),\n",
    "  \n",
    "    ]),\n",
    "}"
   ]
  },
  {
   "cell_type": "code",
   "execution_count": 4,
   "metadata": {
    "id": "9ZHX_jMVzGs9"
   },
   "outputs": [],
   "source": [
    "# defines the dataset directory\n",
    "data_dir = 'wound_dataset'\n",
    "image_datasets = {x: datasets.ImageFolder(os.path.join(data_dir, x),\n",
    "                                          data_transform[x])\n",
    "                  for x in ['train', 'val', 'test']}\n",
    "\n",
    "# trainloader and using an Imbalanced data sampler to balance it out\n",
    "train_loader = torch.utils.data.DataLoader(\n",
    "    image_datasets['train'],\n",
    "    sampler=ImbalancedDatasetSampler(image_datasets['train'])\n",
    ")\n",
    "dataloaders = {x: torch.utils.data.DataLoader(image_datasets[x], sampler = ImbalancedDatasetSampler(image_datasets[x]), batch_size=16,num_workers=3)\n",
    "              for x in ['train', 'val', 'test']}\n",
    "dataset_sizes = {x: len(image_datasets[x]) for x in ['train', 'val','test']}\n",
    "# defining the classes from the dataset\n",
    "class_names = image_datasets['train'].classes"
   ]
  },
  {
   "cell_type": "code",
   "execution_count": 22,
   "metadata": {
    "id": "j6cXHqnQxLCj"
   },
   "outputs": [],
   "source": [
    "# Using pretrained model efficientnet \n",
    "model_ft = models.efficientnet_b1(pretrained=True)\n",
    "num_ftrs = model_ft.classifier[1].in_features\n",
    "\n",
    "# Here the size of each output sample is set to 4\n",
    "model_ft.classifier[1] = nn.Linear(num_ftrs, 4)\n",
    "\n",
    "model_ft = model_ft.to(device)\n",
    "\n",
    "criterion = nn.CrossEntropyLoss()\n",
    "\n",
    "# Set the learning rate to 0.0001 and using the adam optimizer\n",
    "optimizer_ft = optim.Adam(model_ft.parameters(), lr=0.0001)\n",
    "\n",
    "# Decay learning rate by a factor of 0.3 every 10 epochs\n",
    "exp_lr_scheduler = lr_scheduler.StepLR(optimizer_ft, step_size=10, gamma=0.3)"
   ]
  },
  {
   "cell_type": "code",
   "execution_count": 23,
   "metadata": {
    "id": "IAZQdF2DxLK1"
   },
   "outputs": [],
   "source": [
    "# train model function which takes the parameters of the model, criterion, optimizer, scheduler and the number of epochs\n",
    "def train_model(model, criterion, optimizer, scheduler, num_epochs):\n",
    "    since = time.time()\n",
    "    # Deep copy the model\n",
    "    best_model = copy.deepcopy(model.state_dict()) \n",
    "    # Current best accuracy which will be replaced\n",
    "    best_acc = 0.0\n",
    "    # How many iterations of training\n",
    "    for epoch in range(num_epochs): \n",
    "        print(f'Epoch {epoch}/{num_epochs - 1}')\n",
    "        print('-' * 10)\n",
    "        last_loss = 1000\n",
    "        patience = 2\n",
    "        triggertimes = 0\n",
    "        # Each epoch returns training and validation\n",
    "        for phase in ['train', 'val']:\n",
    "            if phase == 'train':\n",
    "                # Set model to training mode\n",
    "                model.train()  \n",
    "            else:\n",
    "                # Set model to validation mode\n",
    "                model.eval()   \n",
    "            #Initialize the loss\n",
    "            running_loss = 0.0 \n",
    "            #Initialize the correct point\n",
    "            running_corrects = 0 \n",
    "\n",
    "            # Iterate over data.\n",
    "            for inputs, labels in dataloaders[phase]:\n",
    "                inputs = inputs.to(device)\n",
    "                labels = labels.to(device)\n",
    "                optimizer.zero_grad()\n",
    "                # forward to the dataset\n",
    "                # track history if only in train\n",
    "                with torch.set_grad_enabled(phase == 'train'):\n",
    "                    outputs = model(inputs)\n",
    "                    _, preds = torch.max(outputs, 1)\n",
    "                    loss = criterion(outputs, labels)\n",
    "                    # backward from the dataset\n",
    "                    if phase == 'train':\n",
    "                        loss.backward()\n",
    "                        optimizer.step()\n",
    "                # statistics\n",
    "                running_loss += loss.item() * inputs.size(0)\n",
    "                running_corrects += torch.sum(preds == labels.data)\n",
    "            if phase == 'train':\n",
    "                scheduler.step()\n",
    "            epoch_loss = running_loss / dataset_sizes[phase]\n",
    "            epoch_acc = running_corrects.double() / dataset_sizes[phase]\n",
    "\n",
    "            print(f'{phase} Loss: {epoch_loss:.4f} Acc: {epoch_acc:.4f}')\n",
    "\n",
    "            # deep copy the model if the accuracy is higher than the previous epoch\n",
    "            if phase == 'val' and epoch_acc > best_acc:\n",
    "                best_acc = epoch_acc\n",
    "                best_model = copy.deepcopy(model.state_dict())\n",
    "\n",
    "        print()\n",
    "\n",
    "    time_elapsed = time.time() - since\n",
    "    # Prints the best validation accuracy and the lenght of the training\n",
    "    print(f'Training complete in {time_elapsed // 60:.0f}m {time_elapsed % 60:.0f}s')\n",
    "    print(f'Best val Acc: {best_acc:4f}')\n",
    "\n",
    "    # Load best  weights and biases for the model to be exported\n",
    "    model.load_state_dict(best_model)\n",
    "    return model"
   ]
  },
  {
   "cell_type": "code",
   "execution_count": 24,
   "metadata": {
    "id": "0EV8YWfqxK5i"
   },
   "outputs": [
    {
     "name": "stdout",
     "output_type": "stream",
     "text": [
      "Epoch 0/19\n",
      "----------\n",
      "train Loss: 1.3420 Acc: 0.3458\n",
      "val Loss: 1.2699 Acc: 0.4750\n",
      "\n",
      "Epoch 1/19\n",
      "----------\n",
      "train Loss: 1.1434 Acc: 0.6042\n",
      "val Loss: 1.1454 Acc: 0.5750\n",
      "\n",
      "Epoch 2/19\n",
      "----------\n",
      "train Loss: 1.0171 Acc: 0.7542\n",
      "val Loss: 0.9798 Acc: 0.6500\n",
      "\n",
      "Epoch 3/19\n",
      "----------\n",
      "train Loss: 0.8752 Acc: 0.8167\n",
      "val Loss: 0.9506 Acc: 0.6125\n",
      "\n",
      "Epoch 4/19\n",
      "----------\n",
      "train Loss: 0.6934 Acc: 0.8542\n",
      "val Loss: 0.8447 Acc: 0.7500\n",
      "\n",
      "Epoch 5/19\n",
      "----------\n",
      "train Loss: 0.5671 Acc: 0.8792\n",
      "val Loss: 0.8590 Acc: 0.6750\n",
      "\n",
      "Epoch 6/19\n",
      "----------\n",
      "train Loss: 0.4608 Acc: 0.9167\n",
      "val Loss: 0.7684 Acc: 0.7625\n",
      "\n",
      "Epoch 7/19\n",
      "----------\n",
      "train Loss: 0.3896 Acc: 0.9167\n",
      "val Loss: 0.7468 Acc: 0.8000\n",
      "\n",
      "Epoch 8/19\n",
      "----------\n",
      "train Loss: 0.2748 Acc: 0.9583\n",
      "val Loss: 0.6088 Acc: 0.7750\n",
      "\n",
      "Epoch 9/19\n",
      "----------\n",
      "train Loss: 0.2451 Acc: 0.9625\n",
      "val Loss: 0.7124 Acc: 0.7625\n",
      "\n",
      "Epoch 10/19\n",
      "----------\n",
      "train Loss: 0.2502 Acc: 0.9375\n",
      "val Loss: 0.8463 Acc: 0.7500\n",
      "\n",
      "Epoch 11/19\n",
      "----------\n",
      "train Loss: 0.2296 Acc: 0.9542\n",
      "val Loss: 0.8159 Acc: 0.7125\n",
      "\n",
      "Epoch 12/19\n",
      "----------\n",
      "train Loss: 0.1792 Acc: 0.9625\n",
      "val Loss: 0.6402 Acc: 0.7375\n",
      "\n",
      "Epoch 13/19\n",
      "----------\n",
      "train Loss: 0.2104 Acc: 0.9625\n",
      "val Loss: 0.5714 Acc: 0.8375\n",
      "\n",
      "Epoch 14/19\n",
      "----------\n",
      "train Loss: 0.1690 Acc: 0.9750\n",
      "val Loss: 0.7894 Acc: 0.7000\n",
      "\n",
      "Epoch 15/19\n",
      "----------\n",
      "train Loss: 0.1442 Acc: 0.9792\n",
      "val Loss: 0.8350 Acc: 0.7000\n",
      "\n",
      "Epoch 16/19\n",
      "----------\n",
      "train Loss: 0.1479 Acc: 0.9875\n",
      "val Loss: 0.7808 Acc: 0.7500\n",
      "\n",
      "Epoch 17/19\n",
      "----------\n",
      "train Loss: 0.1368 Acc: 0.9875\n",
      "val Loss: 0.8873 Acc: 0.7125\n",
      "\n",
      "Epoch 18/19\n",
      "----------\n",
      "train Loss: 0.1020 Acc: 0.9917\n",
      "val Loss: 0.6628 Acc: 0.7625\n",
      "\n",
      "Epoch 19/19\n",
      "----------\n",
      "train Loss: 0.1176 Acc: 0.9917\n",
      "val Loss: 0.6835 Acc: 0.7875\n",
      "\n",
      "Training complete in 24m 43s\n",
      "Best val Acc: 0.837500\n"
     ]
    }
   ],
   "source": [
    "# Call the train_model function and its defined hyperparameters\n",
    "model_ft = train_model(model_ft, criterion, optimizer_ft, exp_lr_scheduler,\n",
    "                       num_epochs=20)"
   ]
  },
  {
   "cell_type": "code",
   "execution_count": 26,
   "metadata": {
    "id": "ovhTCuCTAbs8"
   },
   "outputs": [
    {
     "data": {
      "text/plain": [
       "Text(0.5, 80.7222222222222, 'Predicted label')"
      ]
     },
     "execution_count": 26,
     "metadata": {},
     "output_type": "execute_result"
    },
    {
     "data": {
      "image/png": "[encoded data removed]",
      "text/plain": [
       "<Figure size 1500x1000 with 2 Axes>"
      ]
     },
     "metadata": {},
     "output_type": "display_data"
    }
   ],
   "source": [
    "cm_classes = 4\n",
    "confusion_matrix = np.zeros((cm_classes, cm_classes))\n",
    "with torch.no_grad():\n",
    "    #Loads dataset\n",
    "    for i, (inputs, truelbl) in enumerate(dataloaders['val']):\n",
    "        # The validation dataset that will be used as the input\n",
    "        inputs = inputs.to(device)\n",
    "        # The actual class label\n",
    "        truelbl = truelbl.to(device)\n",
    "        #model prediction\n",
    "        outputs = model_ft(inputs)\n",
    "\n",
    "        _, preds = torch.max(outputs, 1)\n",
    "        for t, p in zip(truelbl.view(-1), preds.view(-1)):\n",
    "                confusion_matrix[t.long(), p.long()] += 1\n",
    "\n",
    "# to output the matrix size\n",
    "plt.figure(figsize=(15,10))\n",
    "#defining the class names to the labels\n",
    "class_names = label_classes\n",
    "\n",
    "df_cm = pd.DataFrame(confusion_matrix, index=class_names, columns=class_names).astype(int)\n",
    "#using a heatmap to get better graphical analysis\n",
    "heatmap = sns.heatmap(df_cm, annot=True, fmt=\"d\")\n",
    "\n",
    "#True label\n",
    "heatmap.yaxis.set_ticklabels(heatmap.yaxis.get_ticklabels(), rotation=0, ha='right',fontsize=15)\n",
    "plt.ylabel('True label')\n",
    "\n",
    "#pred lable\n",
    "heatmap.xaxis.set_ticklabels(heatmap.xaxis.get_ticklabels(), rotation=45, ha='right',fontsize=15)\n",
    "plt.xlabel('Predicted label')\n",
    "plt.savefig('efficient_val_cm.png')\n"
   ]
  },
  {
   "cell_type": "code",
   "execution_count": 27,
   "metadata": {},
   "outputs": [
    {
     "data": {
      "text/plain": [
       "Text(0.5, 80.7222222222222, 'Predicted label')"
      ]
     },
     "execution_count": 27,
     "metadata": {},
     "output_type": "execute_result"
    },
    {
     "data": {
      "image/png": "[encoded data removed]",
      "text/plain": [
       "<Figure size 1500x1000 with 2 Axes>"
      ]
     },
     "metadata": {},
     "output_type": "display_data"
    }
   ],
   "source": [
    "cm_classes = 4\n",
    "confusion_matrix = np.zeros((cm_classes, cm_classes))\n",
    "with torch.no_grad():\n",
    "    #Loads dataset\n",
    "    for i, (inputs, truelbl) in enumerate(dataloaders['test']):\n",
    "        # The test dataset that will be used as the input\n",
    "        inputs = inputs.to(device)\n",
    "        # The actual class label\n",
    "        truelbl = truelbl.to(device)\n",
    "        #model prediction\n",
    "        outputs = model_ft(inputs)\n",
    "\n",
    "        _, preds = torch.max(outputs, 1)\n",
    "        for t, p in zip(truelbl.view(-1), preds.view(-1)):\n",
    "                confusion_matrix[t.long(), p.long()] += 1\n",
    "\n",
    "# to output the matrix size\n",
    "plt.figure(figsize=(15,10))\n",
    "#defining the class names to the labels\n",
    "class_names = label_classes\n",
    "\n",
    "df_cm = pd.DataFrame(confusion_matrix, index=class_names, columns=class_names).astype(int)\n",
    "#using a heatmap to get better graphical analysis\n",
    "heatmap = sns.heatmap(df_cm, annot=True, fmt=\"d\")\n",
    "\n",
    "#True label\n",
    "heatmap.yaxis.set_ticklabels(heatmap.yaxis.get_ticklabels(), rotation=0, ha='right',fontsize=15)\n",
    "plt.ylabel('True label')\n",
    "\n",
    "#pred lable\n",
    "heatmap.xaxis.set_ticklabels(heatmap.xaxis.get_ticklabels(), rotation=45, ha='right',fontsize=15)\n",
    "plt.xlabel('Predicted label')\n",
    "plt.savefig('efficient_val_cm.png')\n"
   ]
  },
  {
   "cell_type": "code",
   "execution_count": 16,
   "metadata": {},
   "outputs": [],
   "source": [
    "# saves the model with the best accuracy for it to be inferenced\n",
    "torch.save(model_ft.state_dict(), 'efficientnet.pt')\n",
    "pickle.dump(model_ft, open('efficientnet.pkl','wb'))"
   ]
  },
  {
   "cell_type": "code",
   "execution_count": null,
   "metadata": {},
   "outputs": [],
   "source": []
  }
 ],
 "metadata": {
  "colab": {
   "collapsed_sections": [],
   "machine_shape": "hm",
   "name": "classification_wisc.ipynb",
   "private_outputs": true,
   "provenance": []
  },
  "gpuClass": "standard",
  "kernelspec": {
   "display_name": "Python 3",
   "language": "python",
   "name": "python3"
  },
  "language_info": {
   "codemirror_mode": {
    "name": "ipython",
    "version": 3
   },
   "file_extension": ".py",
   "mimetype": "text/x-python",
   "name": "python",
   "nbconvert_exporter": "python",
   "pygments_lexer": "ipython3",
   "version": "3.7.8 (tags/v3.7.8:4b47a5b6ba, Jun 28 2020, 08:53:46) [MSC v.1916 64 bit (AMD64)]"
  },
  "vscode": {
   "interpreter": {
    "hash": "0a54084e6b208ee8d1ce3989ffc20924477a5f55f5a43e22e699a6741623861e"
   }
  }
 },
 "nbformat": 4,
 "nbformat_minor": 1
}
